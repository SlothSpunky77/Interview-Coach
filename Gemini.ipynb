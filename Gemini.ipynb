{
 "cells": [
  {
   "cell_type": "markdown",
   "metadata": {
    "id": "wFNV1e3ASJha"
   },
   "source": [
    "### Install the Python SDK\n",
    "\n"
   ]
  },
  {
   "cell_type": "code",
   "execution_count": null,
   "metadata": {
    "colab": {
     "base_uri": "https://localhost:8080/"
    },
    "id": "9OEoeosRTv-5",
    "outputId": "d5bd364a-09f1-4417-e2f7-ae3f436aeb10"
   },
   "outputs": [],
   "source": [
    "!pip install -q -U google-generativeai"
   ]
  },
  {
   "cell_type": "markdown",
   "metadata": {
    "id": "adehnPZ_tnwi"
   },
   "source": [
    "Import packages"
   ]
  },
  {
   "cell_type": "code",
   "execution_count": 28,
   "metadata": {
    "id": "vQWVUgQ_ttJ5"
   },
   "outputs": [],
   "source": [
    "import pathlib\n",
    "import textwrap\n",
    "\n",
    "import google.generativeai as genai\n",
    "\n",
    "from IPython.display import display\n",
    "from IPython.display import Markdown\n",
    "\n",
    "\n",
    "def to_markdown(text):\n",
    "  text = text.replace('•', '  *')\n",
    "  return Markdown(textwrap.indent(text, '> ', predicate=lambda _: True))"
   ]
  },
  {
   "cell_type": "code",
   "execution_count": 29,
   "metadata": {
    "id": "ab9ASynfcIZn"
   },
   "outputs": [],
   "source": [
    "import os\n",
    "os.getenv('API_KEY')\n",
    "\n",
    "genai.configure(api_key=\"API_KEY\")"
   ]
  },
  {
   "cell_type": "code",
   "execution_count": 30,
   "metadata": {
    "id": "2bcfnGEviwTI"
   },
   "outputs": [],
   "source": [
    "model = genai.GenerativeModel('gemini-pro')"
   ]
  },
  {
   "cell_type": "code",
   "execution_count": 31,
   "metadata": {},
   "outputs": [],
   "source": [
    "interview_questions=[\n",
    "    [\"\"\"Why do you want to work in retail?\"\"\"\n",
    "     ,\n",
    "     \"\"\"(Most Favorable): I enjoy interacting with people and helping them find what they need. I'm passionate about [company's product/service] and believe in its value to customers. I'm a team player and thrive in a fast-paced environment. (This answer shows enthusiasm, product knowledge, and teamwork skills.)\n",
    "    (Favorable): I'm looking for a customer-facing role to develop my communication and sales skills. I believe retail offers a dynamic work environment and opportunities for growth. (This answer highlights a desire for skill development and a willingness to learn.)\n",
    "    (Neutral): I need a job, and retail seems like a good starting point.(This answer is neutral, but doesn't show specific interest in the role.)\n",
    "    (Less Favorable): My previous job wasn't a good fit, and I'm open to different opportunities. (This focuses on the negative aspects of a past job.)\n",
    "    (Least Favorable): The hours work well with my schedule.(This answer only focuses on personal needs, not the company or role.)\n",
    "    \"\"\"\n",
    "    ],\n",
    "    [\"\"\"How would you handle a difficult customer?\"\"\"\n",
    "     ,\n",
    "     \"\"\"(Most Favorable): \"I would stay calm, listen actively to understand their concerns, and apologize for any inconvenience. I would then try to find a solution that meets their needs. If necessary, I would escalate the situation to a manager while remaining courteous to the customer.\" (This answer emphasizes active listening, problem-solving, and maintaining composure under pressure.)\n",
    "    (Favorable): \"I would try to empathize with the customer's frustration and offer solutions or alternatives. I would also be professional and respectful in my communication.\" (This answer focuses on empathy, communication skills, and de-escalation.)\n",
    "    (Neutral): \"I would try to reason with the customer and explain the store policy.\" (This answer suggests a more confrontational approach.)\n",
    "    (Less Favorable): \"I would avoid getting into an argument and just let them vent.\" (This answer shows a passive approach to conflict resolution.)\n",
    "    (Least Favorable): \"I would ask a coworker to deal with them.\" (This answer avoids taking responsibility.)\n",
    "    \"\"\"\n",
    "    ],\n",
    "    [\"\"\"You're due to leave at 5 pm but your replacement worker doesn't show up. What would you do?\"\"\"\n",
    "     ,\n",
    "     \"\"\"(Most Favorable):\"I would first try to contact my replacement to see if they are running late or unable to make their shift. If I can't reach them, I would inform my manager immediately and explain the situation. I would then offer to stay until they can find someone to cover the remaining time, or until a reasonable handover can occur to another coworker. My priority would be to ensure smooth store operations and minimize any inconvenience to customers or colleagues.\" (This answer shows initiative, responsibility, and teamwork.)\n",
    "    (Favorable): \"I would let my manager know as soon as possible that my replacement isn't there. I would then offer to stay for a short period to help out, but would explain that I have commitments and cannot stay indefinitely.\" (This answer emphasizes communication and willingness to help, but also sets boundaries.)\n",
    "    (Neutral): \"I would clock out at 5 pm as scheduled.\" (This answer is neutral, but doesn't show a strong commitment to the team or customer service.)\n",
    "    (Less Favorable): \"I would leave a note for my replacement and clock out at 5 pm.\" (This answer lacks communication and doesn't ensure a smooth handover.)\n",
    "    (Least Favorable): \"I would just leave without saying anything.\" (This answer is unprofessional and irresponsible.)\n",
    "    \"\"\"\n",
    "    ],\n",
    "    [\"\"\"A customer wants to return some goods that have been clearly opened and used. How would you handle it?\"\"\"\n",
    "     ,\n",
    "     \"\"\"(Most Favorable): \"I would politely greet the customer and ask for their receipt. I would then explain the store's return policy regarding opened or used items. If the policy allows for a partial refund or exchange, I would explain those options clearly and professionally. I would also offer to see if there's anything else I can help them with.\" (This answer demonstrates knowledge of policy, clear communication, and customer service focus.)\n",
    "    (Favorable): \"I would apologize for any inconvenience and ask the customer to see the product. I would then explain the store's return policy and try to find a solution that works for them, such as an exchange for a different item or store credit, if allowed by the policy.\" (This answer prioritizes customer satisfaction while adhering to policy.)\n",
    "    (Neutral): \"I would ask the customer for their receipt and explain the store's return policy.\" (This answer is neutral, but lacks details on how you'd handle the specific situation.)\n",
    "    (Less Favorable): \"I would inform the customer that the item cannot be returned because it's opened.\" (This answer lacks clear explanation and could lead to customer dissatisfaction.)\n",
    "    (Least Favorable): \"That's not possible, you can't return a used item.\" (This answer is confrontational and offers no solution to the customer.)\n",
    "    \"\"\"\n",
    "    ],\n",
    "    [\"\"\"How do you handle rejection after a customer declines to purchase a product so that you can do better when a new customer arrives?\"\"\"\n",
    "     ,\n",
    "     \"\"\"(Most Favorable): \"Thank the customer for their time and consideration. Briefly ask if there was anything about the product that didn't meet their needs. This can provide valuable insights for future interactions. Then, politely excuse yourself and move on to the next customer with a positive attitude, focusing on how you can help them.\" (This answer shows appreciation, seeks feedback for improvement, and maintains a professional demeanor.)\n",
    "\n",
    "    (Favorable): \"Acknowledge the customer's decision and offer assistance with finding alternative products that might better suit their needs. This demonstrates a willingness to help and showcases your product knowledge.\" (This answer focuses on customer service and suggests alternative solutions.)\n",
    "    (Neutral): \"Thank the customer for their time.\" (This answer is neutral, but lacks the initiative to learn or improve future interactions.)\n",
    "    (Less Favorable): \"No problem, maybe next time.\" (This answer shows a lack of enthusiasm and doesn't attempt to learn from the interaction.)\n",
    "    (Least Favorable): \"That's a shame, you're missing out on a great product.\" (This answer is dismissive and could come across as pressuring the customer.)\n",
    "    \"\"\"\n",
    "    ]\n",
    "    ]\n",
    "    "
   ]
  },
  {
   "cell_type": "code",
   "execution_count": 32,
   "metadata": {},
   "outputs": [
    {
     "data": {
      "text/markdown": [
       "> **Comparison:**\n",
       "> \n",
       "> The user's answer closely aligns with the most favorable actual answer, highlighting enthusiasm, product knowledge, and teamwork skills.\n",
       "> \n",
       "> **Rating:**\n",
       "> \n",
       "> 9/10"
      ],
      "text/plain": [
       "<IPython.core.display.Markdown object>"
      ]
     },
     "execution_count": 32,
     "metadata": {},
     "output_type": "execute_result"
    }
   ],
   "source": [
    "pair=interview_questions[0]\n",
    "question= pair[0]\n",
    "\n",
    "answer=\"\"\" I enjoy interacting with people and helping them find what they need. I'm passionate about the company's work ethic and believe in its value to customers. I'm a team player and thrive in a fast-paced environment.\"\"\"\n",
    "feedback=model.generate_content(question+\"Actual answer : \"+pair[1]+\"\\n Users answer : \"+answer+\n",
    "                                \"\\n Can you compare the actual answer and the users answer and give feedback in 30 words or less and assign a rating to the answer the user has given on a scale of 1 to 10 .\")\n",
    "to_markdown(feedback.text)"
   ]
  },
  {
   "cell_type": "code",
   "execution_count": 34,
   "metadata": {},
   "outputs": [
    {
     "name": "stdout",
     "output_type": "stream",
     "text": [
      "Requirement already satisfied: SpeechRecognition in c:\\python311\\lib\\site-packages (3.10.3)\n",
      "Requirement already satisfied: requests>=2.26.0 in c:\\python311\\lib\\site-packages (from SpeechRecognition) (2.31.0)\n",
      "Requirement already satisfied: typing-extensions in c:\\python311\\lib\\site-packages (from SpeechRecognition) (4.10.0)\n",
      "Requirement already satisfied: charset-normalizer<4,>=2 in c:\\python311\\lib\\site-packages (from requests>=2.26.0->SpeechRecognition) (3.3.2)\n",
      "Requirement already satisfied: idna<4,>=2.5 in c:\\python311\\lib\\site-packages (from requests>=2.26.0->SpeechRecognition) (3.6)\n",
      "Requirement already satisfied: urllib3<3,>=1.21.1 in c:\\python311\\lib\\site-packages (from requests>=2.26.0->SpeechRecognition) (2.1.0)\n",
      "Requirement already satisfied: certifi>=2017.4.17 in c:\\python311\\lib\\site-packages (from requests>=2.26.0->SpeechRecognition) (2023.11.17)\n"
     ]
    },
    {
     "name": "stderr",
     "output_type": "stream",
     "text": [
      "DEPRECATION: Loading egg at c:\\python311\\lib\\site-packages\\vboxapi-1.0-py3.11.egg is deprecated. pip 24.3 will enforce this behaviour change. A possible replacement is to use pip for package installation.. Discussion can be found at https://github.com/pypa/pip/issues/12330\n"
     ]
    },
    {
     "name": "stdout",
     "output_type": "stream",
     "text": [
      "Requirement already satisfied: pyaudio in c:\\python311\\lib\\site-packages (0.2.14)\n"
     ]
    },
    {
     "name": "stderr",
     "output_type": "stream",
     "text": [
      "DEPRECATION: Loading egg at c:\\python311\\lib\\site-packages\\vboxapi-1.0-py3.11.egg is deprecated. pip 24.3 will enforce this behaviour change. A possible replacement is to use pip for package installation.. Discussion can be found at https://github.com/pypa/pip/issues/12330\n"
     ]
    },
    {
     "name": "stdout",
     "output_type": "stream",
     "text": [
      "Collecting pyttsx3\n",
      "  Using cached pyttsx3-2.90-py3-none-any.whl.metadata (3.6 kB)\n",
      "Requirement already satisfied: comtypes in c:\\python311\\lib\\site-packages (from pyttsx3) (1.3.1)\n",
      "Collecting pypiwin32 (from pyttsx3)\n",
      "  Using cached pypiwin32-223-py3-none-any.whl.metadata (236 bytes)\n",
      "Requirement already satisfied: pywin32 in c:\\python311\\lib\\site-packages (from pyttsx3) (306)\n",
      "Using cached pyttsx3-2.90-py3-none-any.whl (39 kB)\n",
      "Using cached pypiwin32-223-py3-none-any.whl (1.7 kB)\n",
      "Installing collected packages: pypiwin32, pyttsx3\n",
      "Successfully installed pypiwin32-223 pyttsx3-2.90\n"
     ]
    },
    {
     "name": "stderr",
     "output_type": "stream",
     "text": [
      "DEPRECATION: Loading egg at c:\\python311\\lib\\site-packages\\vboxapi-1.0-py3.11.egg is deprecated. pip 24.3 will enforce this behaviour change. A possible replacement is to use pip for package installation.. Discussion can be found at https://github.com/pypa/pip/issues/12330\n"
     ]
    }
   ],
   "source": [
    "!pip install SpeechRecognition\n",
    "!pip install pyaudio\n",
    "!pip install pyttsx3"
   ]
  },
  {
   "cell_type": "code",
   "execution_count": 37,
   "metadata": {},
   "outputs": [
    {
     "name": "stdout",
     "output_type": "stream",
     "text": [
      "generating...\n"
     ]
    }
   ],
   "source": [
    "import pyttsx3\n",
    "\n",
    "# Initialize the text-to-speech engine\n",
    "engine = pyttsx3.init()\n",
    "\n",
    "# Set the speech rate (optional)\n",
    "engine.setProperty('rate', 150)  # Adjust rate as needed (default is 200)\n",
    "\n",
    "# Set the voice (optional, system dependent)\n",
    "voices = engine.getProperty('voices')\n",
    "engine.setProperty('voice', voices[0].id)  # Use the first voice by default\n",
    "\n",
    "# Text to be converted to speech\n",
    "text = feedback.text\n",
    "\n",
    "# Speak the text\n",
    "engine.say(text)\n",
    "\n",
    "# Execute all queued commands and wait until finished\n",
    "engine.runAndWait()\n",
    "\n",
    "print(\"generating...\")\n"
   ]
  },
  {
   "cell_type": "code",
   "execution_count": 40,
   "metadata": {},
   "outputs": [
    {
     "name": "stdout",
     "output_type": "stream",
     "text": [
      "Speak Anything...\n",
      "You said: turn the customer for the time\n"
     ]
    }
   ],
   "source": [
    "#!pip install speech_recognition\n",
    "import speech_recognition as sr\n",
    "\n",
    "# Record audio using microphone\n",
    "recognizer = sr.Recognizer()\n",
    "with sr.Microphone() as source:\n",
    "    print(\"Speak Anything...\")\n",
    "    audio = recognizer.listen(source)\n",
    "\n",
    "# Recognize speech using Google Speech Recognition\n",
    "try:\n",
    "    text = recognizer.recognize_google(audio)\n",
    "    print(\"You said: {}\".format(text))\n",
    "except sr.UnknownValueError:\n",
    "    print(\"Speech Recognition could not understand audio\")\n",
    "except sr.RequestError as e:\n",
    "    print(\"Could not request results from Google Speech Recognition service; {0}\".format(e))"
   ]
  },
  {
   "cell_type": "code",
   "execution_count": 41,
   "metadata": {},
   "outputs": [
    {
     "name": "stdout",
     "output_type": "stream",
     "text": [
      "Collecting vadersentiment\n",
      "  Downloading vaderSentiment-3.3.2-py2.py3-none-any.whl.metadata (572 bytes)\n",
      "Requirement already satisfied: requests in c:\\python311\\lib\\site-packages (from vadersentiment) (2.31.0)\n",
      "Requirement already satisfied: charset-normalizer<4,>=2 in c:\\python311\\lib\\site-packages (from requests->vadersentiment) (3.3.2)\n",
      "Requirement already satisfied: idna<4,>=2.5 in c:\\python311\\lib\\site-packages (from requests->vadersentiment) (3.6)\n",
      "Requirement already satisfied: urllib3<3,>=1.21.1 in c:\\python311\\lib\\site-packages (from requests->vadersentiment) (2.1.0)\n",
      "Requirement already satisfied: certifi>=2017.4.17 in c:\\python311\\lib\\site-packages (from requests->vadersentiment) (2023.11.17)\n",
      "Downloading vaderSentiment-3.3.2-py2.py3-none-any.whl (125 kB)\n",
      "   ---------------------------------------- 0.0/126.0 kB ? eta -:--:--\n",
      "   ---------------------------------------- 0.0/126.0 kB ? eta -:--:--\n",
      "   ---------------------------------------- 0.0/126.0 kB ? eta -:--:--\n",
      "   ---------------------------------------- 0.0/126.0 kB ? eta -:--:--\n",
      "   ---------------------------------------- 0.0/126.0 kB ? eta -:--:--\n",
      "   --------- ------------------------------ 30.7/126.0 kB ? eta -:--:--\n",
      "   --------- ------------------------------ 30.7/126.0 kB ? eta -:--:--\n",
      "   ------------ -------------------------- 41.0/126.0 kB 326.8 kB/s eta 0:00:01\n",
      "   ------------ -------------------------- 41.0/126.0 kB 326.8 kB/s eta 0:00:01\n",
      "   ------------ -------------------------- 41.0/126.0 kB 326.8 kB/s eta 0:00:01\n",
      "   ------------------- ------------------- 61.4/126.0 kB 252.2 kB/s eta 0:00:01\n",
      "   ------------------- ------------------- 61.4/126.0 kB 252.2 kB/s eta 0:00:01\n",
      "   ------------------- ------------------- 61.4/126.0 kB 252.2 kB/s eta 0:00:01\n",
      "   ------------------- ------------------- 61.4/126.0 kB 252.2 kB/s eta 0:00:01\n",
      "   ------------------- ------------------- 61.4/126.0 kB 252.2 kB/s eta 0:00:01\n",
      "   ---------------------------- ---------- 92.2/126.0 kB 180.8 kB/s eta 0:00:01\n",
      "   ---------------------------- ---------- 92.2/126.0 kB 180.8 kB/s eta 0:00:01\n",
      "   ---------------------------- ---------- 92.2/126.0 kB 180.8 kB/s eta 0:00:01\n",
      "   -------------------------------------- 126.0/126.0 kB 200.2 kB/s eta 0:00:00\n",
      "Installing collected packages: vadersentiment\n",
      "Successfully installed vadersentiment-3.3.2\n"
     ]
    },
    {
     "name": "stderr",
     "output_type": "stream",
     "text": [
      "DEPRECATION: Loading egg at c:\\python311\\lib\\site-packages\\vboxapi-1.0-py3.11.egg is deprecated. pip 24.3 will enforce this behaviour change. A possible replacement is to use pip for package installation.. Discussion can be found at https://github.com/pypa/pip/issues/12330\n"
     ]
    }
   ],
   "source": [
    "!pip install vadersentiment"
   ]
  },
  {
   "cell_type": "code",
   "execution_count": null,
   "metadata": {},
   "outputs": [],
   "source": [
    "Sentence=(str(text))\n",
    "analyser=SentimentIntensityAnalyzer()\n",
    "for i in Sentence:\n",
    "    v=analyser.polarity_scores(i)\n",
    "    print(v)"
   ]
  },
  {
   "cell_type": "markdown",
   "metadata": {
    "id": "EJrwllLnHlBb"
   },
   "source": [
    "By default, the model returns a response after completing the entire generation process. You can also stream the response as it is being generated, and the model will return chunks of the response as soon as they are generated.\n",
    "\n",
    "To stream responses, use <a href=\"https://ai.google.dev/api/python/google/generativeai/GenerativeModel#generate_content\"><code>GenerativeModel.generate_content(..., stream=True)</code></a>."
   ]
  }
 ],
 "metadata": {
  "accelerator": "GPU",
  "colab": {
   "gpuType": "T4",
   "provenance": []
  },
  "google": {
   "image_path": "/static/site-assets/images/docs/logo-python.svg",
   "keywords": [
    "examples",
    "gemini",
    "beginner",
    "googleai",
    "quickstart",
    "python",
    "text",
    "chat",
    "vision",
    "embed"
   ]
  },
  "kernelspec": {
   "display_name": "Python 3 (ipykernel)",
   "language": "python",
   "name": "python3"
  },
  "language_info": {
   "codemirror_mode": {
    "name": "ipython",
    "version": 3
   },
   "file_extension": ".py",
   "mimetype": "text/x-python",
   "name": "python",
   "nbconvert_exporter": "python",
   "pygments_lexer": "ipython3",
   "version": "3.11.4"
  }
 },
 "nbformat": 4,
 "nbformat_minor": 4
}
